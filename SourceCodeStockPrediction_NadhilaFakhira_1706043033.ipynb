{
  "nbformat": 4,
  "nbformat_minor": 0,
  "metadata": {
    "colab": {
      "name": "Untitled4.ipynb",
      "provenance": [],
      "collapsed_sections": [],
      "include_colab_link": true
    },
    "kernelspec": {
      "name": "python3",
      "display_name": "Python 3"
    }
  },
  "cells": [
    {
      "cell_type": "markdown",
      "metadata": {
        "id": "view-in-github",
        "colab_type": "text"
      },
      "source": [
        "<a href=\"https://colab.research.google.com/github/nadhilafira/UAS-Probstok/blob/master/SourceCodeStockPrediction_NadhilaFakhira_1706043033.ipynb\" target=\"_parent\"><img src=\"https://colab.research.google.com/assets/colab-badge.svg\" alt=\"Open In Colab\"/></a>"
      ]
    },
    {
      "cell_type": "code",
      "metadata": {
        "id": "21SQZfhq2i6p",
        "colab_type": "code",
        "colab": {
          "base_uri": "https://localhost:8080/",
          "height": 202
        },
        "outputId": "f72931a5-67c1-4f62-c85f-b1c2296879b4"
      },
      "source": [
        "import plotly.graph_objs as go\n",
        "import plotly.tools as tools\n",
        "import plotly.figure_factory as FF\n",
        "import plotly as py\n",
        "import numpy as np\n",
        "import pandas as pd\n",
        "import scipy\n",
        "\n",
        "data1 = pd.read_csv (r'https://raw.githubusercontent.com/nadhilafira/Nikkei/master/Nikkei.csv')\n",
        "data2 = pd.read_csv(r'https://raw.githubusercontent.com/nadhilafira/Nikkei/master/Unilever.csv')\n",
        "data3 = pd.read_csv(r'https://raw.githubusercontent.com/nadhilafira/Nikkei/master/SEL.csv')\n",
        "\n",
        "data1.head()"
      ],
      "execution_count": 105,
      "outputs": [
        {
          "output_type": "execute_result",
          "data": {
            "text/html": [
              "<div>\n",
              "<style scoped>\n",
              "    .dataframe tbody tr th:only-of-type {\n",
              "        vertical-align: middle;\n",
              "    }\n",
              "\n",
              "    .dataframe tbody tr th {\n",
              "        vertical-align: top;\n",
              "    }\n",
              "\n",
              "    .dataframe thead th {\n",
              "        text-align: right;\n",
              "    }\n",
              "</style>\n",
              "<table border=\"1\" class=\"dataframe\">\n",
              "  <thead>\n",
              "    <tr style=\"text-align: right;\">\n",
              "      <th></th>\n",
              "      <th>Date</th>\n",
              "      <th>Open</th>\n",
              "      <th>High</th>\n",
              "      <th>Low</th>\n",
              "      <th>Close</th>\n",
              "      <th>Adj Close</th>\n",
              "      <th>Volume</th>\n",
              "    </tr>\n",
              "  </thead>\n",
              "  <tbody>\n",
              "    <tr>\n",
              "      <th>0</th>\n",
              "      <td>2014-12-08</td>\n",
              "      <td>18004.660156</td>\n",
              "      <td>18030.830078</td>\n",
              "      <td>17869.740234</td>\n",
              "      <td>17935.640625</td>\n",
              "      <td>17935.640625</td>\n",
              "      <td>134700</td>\n",
              "    </tr>\n",
              "    <tr>\n",
              "      <th>1</th>\n",
              "      <td>2014-12-09</td>\n",
              "      <td>17820.240234</td>\n",
              "      <td>17892.160156</td>\n",
              "      <td>17773.300781</td>\n",
              "      <td>17813.380859</td>\n",
              "      <td>17813.380859</td>\n",
              "      <td>140400</td>\n",
              "    </tr>\n",
              "    <tr>\n",
              "      <th>2</th>\n",
              "      <td>2014-12-10</td>\n",
              "      <td>17623.349609</td>\n",
              "      <td>17658.140625</td>\n",
              "      <td>17308.820313</td>\n",
              "      <td>17412.580078</td>\n",
              "      <td>17412.580078</td>\n",
              "      <td>169600</td>\n",
              "    </tr>\n",
              "    <tr>\n",
              "      <th>3</th>\n",
              "      <td>2014-12-11</td>\n",
              "      <td>17180.490234</td>\n",
              "      <td>17289.730469</td>\n",
              "      <td>17043.630859</td>\n",
              "      <td>17257.400391</td>\n",
              "      <td>17257.400391</td>\n",
              "      <td>151400</td>\n",
              "    </tr>\n",
              "    <tr>\n",
              "      <th>4</th>\n",
              "      <td>2014-12-12</td>\n",
              "      <td>17317.689453</td>\n",
              "      <td>17526.189453</td>\n",
              "      <td>17298.189453</td>\n",
              "      <td>17371.580078</td>\n",
              "      <td>17371.580078</td>\n",
              "      <td>214500</td>\n",
              "    </tr>\n",
              "  </tbody>\n",
              "</table>\n",
              "</div>"
            ],
            "text/plain": [
              "         Date          Open          High  ...         Close     Adj Close  Volume\n",
              "0  2014-12-08  18004.660156  18030.830078  ...  17935.640625  17935.640625  134700\n",
              "1  2014-12-09  17820.240234  17892.160156  ...  17813.380859  17813.380859  140400\n",
              "2  2014-12-10  17623.349609  17658.140625  ...  17412.580078  17412.580078  169600\n",
              "3  2014-12-11  17180.490234  17289.730469  ...  17257.400391  17257.400391  151400\n",
              "4  2014-12-12  17317.689453  17526.189453  ...  17371.580078  17371.580078  214500\n",
              "\n",
              "[5 rows x 7 columns]"
            ]
          },
          "metadata": {
            "tags": []
          },
          "execution_count": 105
        }
      ]
    },
    {
      "cell_type": "code",
      "metadata": {
        "id": "Eh0qKP1l6Y01",
        "colab_type": "code",
        "colab": {
          "base_uri": "https://localhost:8080/",
          "height": 202
        },
        "outputId": "608e55f4-fca5-473c-9d4a-be32dcc8c660"
      },
      "source": [
        "data2.head()"
      ],
      "execution_count": 54,
      "outputs": [
        {
          "output_type": "execute_result",
          "data": {
            "text/html": [
              "<div>\n",
              "<style scoped>\n",
              "    .dataframe tbody tr th:only-of-type {\n",
              "        vertical-align: middle;\n",
              "    }\n",
              "\n",
              "    .dataframe tbody tr th {\n",
              "        vertical-align: top;\n",
              "    }\n",
              "\n",
              "    .dataframe thead th {\n",
              "        text-align: right;\n",
              "    }\n",
              "</style>\n",
              "<table border=\"1\" class=\"dataframe\">\n",
              "  <thead>\n",
              "    <tr style=\"text-align: right;\">\n",
              "      <th></th>\n",
              "      <th>Date</th>\n",
              "      <th>Open</th>\n",
              "      <th>High</th>\n",
              "      <th>Low</th>\n",
              "      <th>Close</th>\n",
              "      <th>Adj Close</th>\n",
              "      <th>Volume</th>\n",
              "    </tr>\n",
              "  </thead>\n",
              "  <tbody>\n",
              "    <tr>\n",
              "      <th>0</th>\n",
              "      <td>2014-12-08</td>\n",
              "      <td>31700.0</td>\n",
              "      <td>31700.0</td>\n",
              "      <td>31050.0</td>\n",
              "      <td>31150.0</td>\n",
              "      <td>28040.568359</td>\n",
              "      <td>1240100</td>\n",
              "    </tr>\n",
              "    <tr>\n",
              "      <th>1</th>\n",
              "      <td>2014-12-09</td>\n",
              "      <td>31000.0</td>\n",
              "      <td>31175.0</td>\n",
              "      <td>30975.0</td>\n",
              "      <td>31025.0</td>\n",
              "      <td>27928.044922</td>\n",
              "      <td>1608000</td>\n",
              "    </tr>\n",
              "    <tr>\n",
              "      <th>2</th>\n",
              "      <td>2014-12-10</td>\n",
              "      <td>31025.0</td>\n",
              "      <td>31125.0</td>\n",
              "      <td>31000.0</td>\n",
              "      <td>31100.0</td>\n",
              "      <td>27995.562500</td>\n",
              "      <td>872800</td>\n",
              "    </tr>\n",
              "    <tr>\n",
              "      <th>3</th>\n",
              "      <td>2014-12-11</td>\n",
              "      <td>31075.0</td>\n",
              "      <td>31075.0</td>\n",
              "      <td>30900.0</td>\n",
              "      <td>30900.0</td>\n",
              "      <td>27815.523438</td>\n",
              "      <td>2589800</td>\n",
              "    </tr>\n",
              "    <tr>\n",
              "      <th>4</th>\n",
              "      <td>2014-12-12</td>\n",
              "      <td>30900.0</td>\n",
              "      <td>31050.0</td>\n",
              "      <td>30900.0</td>\n",
              "      <td>30975.0</td>\n",
              "      <td>27883.041016</td>\n",
              "      <td>1010400</td>\n",
              "    </tr>\n",
              "  </tbody>\n",
              "</table>\n",
              "</div>"
            ],
            "text/plain": [
              "         Date     Open     High      Low    Close     Adj Close   Volume\n",
              "0  2014-12-08  31700.0  31700.0  31050.0  31150.0  28040.568359  1240100\n",
              "1  2014-12-09  31000.0  31175.0  30975.0  31025.0  27928.044922  1608000\n",
              "2  2014-12-10  31025.0  31125.0  31000.0  31100.0  27995.562500   872800\n",
              "3  2014-12-11  31075.0  31075.0  30900.0  30900.0  27815.523438  2589800\n",
              "4  2014-12-12  30900.0  31050.0  30900.0  30975.0  27883.041016  1010400"
            ]
          },
          "metadata": {
            "tags": []
          },
          "execution_count": 54
        }
      ]
    },
    {
      "cell_type": "code",
      "metadata": {
        "id": "ue--2T3H6fCI",
        "colab_type": "code",
        "colab": {
          "base_uri": "https://localhost:8080/",
          "height": 202
        },
        "outputId": "2060e564-dd57-47e2-d069-e456f6dd1a1b"
      },
      "source": [
        "data3.head()"
      ],
      "execution_count": 106,
      "outputs": [
        {
          "output_type": "execute_result",
          "data": {
            "text/html": [
              "<div>\n",
              "<style scoped>\n",
              "    .dataframe tbody tr th:only-of-type {\n",
              "        vertical-align: middle;\n",
              "    }\n",
              "\n",
              "    .dataframe tbody tr th {\n",
              "        vertical-align: top;\n",
              "    }\n",
              "\n",
              "    .dataframe thead th {\n",
              "        text-align: right;\n",
              "    }\n",
              "</style>\n",
              "<table border=\"1\" class=\"dataframe\">\n",
              "  <thead>\n",
              "    <tr style=\"text-align: right;\">\n",
              "      <th></th>\n",
              "      <th>Date</th>\n",
              "      <th>Open</th>\n",
              "      <th>High</th>\n",
              "      <th>Low</th>\n",
              "      <th>Close</th>\n",
              "      <th>Adj Close</th>\n",
              "      <th>Volume</th>\n",
              "    </tr>\n",
              "  </thead>\n",
              "  <tbody>\n",
              "    <tr>\n",
              "      <th>0</th>\n",
              "      <td>2014-12-08</td>\n",
              "      <td>7.29</td>\n",
              "      <td>7.37</td>\n",
              "      <td>7.29</td>\n",
              "      <td>7.35</td>\n",
              "      <td>6.046041</td>\n",
              "      <td>1452000</td>\n",
              "    </tr>\n",
              "    <tr>\n",
              "      <th>1</th>\n",
              "      <td>2014-12-09</td>\n",
              "      <td>7.37</td>\n",
              "      <td>7.65</td>\n",
              "      <td>7.37</td>\n",
              "      <td>7.60</td>\n",
              "      <td>6.251688</td>\n",
              "      <td>8078000</td>\n",
              "    </tr>\n",
              "    <tr>\n",
              "      <th>2</th>\n",
              "      <td>2014-12-10</td>\n",
              "      <td>7.60</td>\n",
              "      <td>7.60</td>\n",
              "      <td>7.51</td>\n",
              "      <td>7.60</td>\n",
              "      <td>6.251688</td>\n",
              "      <td>4322000</td>\n",
              "    </tr>\n",
              "    <tr>\n",
              "      <th>3</th>\n",
              "      <td>2014-12-11</td>\n",
              "      <td>7.60</td>\n",
              "      <td>7.61</td>\n",
              "      <td>7.57</td>\n",
              "      <td>7.59</td>\n",
              "      <td>6.243463</td>\n",
              "      <td>2292800</td>\n",
              "    </tr>\n",
              "    <tr>\n",
              "      <th>4</th>\n",
              "      <td>2014-12-12</td>\n",
              "      <td>7.60</td>\n",
              "      <td>7.71</td>\n",
              "      <td>7.58</td>\n",
              "      <td>7.70</td>\n",
              "      <td>6.333947</td>\n",
              "      <td>4099000</td>\n",
              "    </tr>\n",
              "  </tbody>\n",
              "</table>\n",
              "</div>"
            ],
            "text/plain": [
              "         Date  Open  High   Low  Close  Adj Close   Volume\n",
              "0  2014-12-08  7.29  7.37  7.29   7.35   6.046041  1452000\n",
              "1  2014-12-09  7.37  7.65  7.37   7.60   6.251688  8078000\n",
              "2  2014-12-10  7.60  7.60  7.51   7.60   6.251688  4322000\n",
              "3  2014-12-11  7.60  7.61  7.57   7.59   6.243463  2292800\n",
              "4  2014-12-12  7.60  7.71  7.58   7.70   6.333947  4099000"
            ]
          },
          "metadata": {
            "tags": []
          },
          "execution_count": 106
        }
      ]
    },
    {
      "cell_type": "markdown",
      "metadata": {
        "id": "K3L0yR_v8eOd",
        "colab_type": "text"
      },
      "source": [
        "data1 = Nikkei Tokyo Stock Average (8 Desember 2014 - 5 Desember 2019) Jumlah data 1223\n",
        "\n",
        "data2 = PT. Unilever Indonesia Tbk. Stock (8 Desember 2014 - 5 Desember 2019) Jumlah data 1257\n",
        "\n",
        "data3 = Singapore Exchange Limited (8 Desember 2014 - 5 Desember 2019) Jumlah data 1249"
      ]
    },
    {
      "cell_type": "code",
      "metadata": {
        "id": "vUOGqkMMCjnI",
        "colab_type": "code",
        "colab": {
          "base_uri": "https://localhost:8080/",
          "height": 121
        },
        "outputId": "48c0e3e3-05e8-478d-8929-47468932f352"
      },
      "source": [
        "data1 = data1[['Adj Close']]\n",
        "print(data1.head())"
      ],
      "execution_count": 63,
      "outputs": [
        {
          "output_type": "stream",
          "text": [
            "      Adj Close\n",
            "0  17935.640625\n",
            "1  17813.380859\n",
            "2  17412.580078\n",
            "3  17257.400391\n",
            "4  17371.580078\n"
          ],
          "name": "stdout"
        }
      ]
    },
    {
      "cell_type": "code",
      "metadata": {
        "id": "mI4yn3rxDERX",
        "colab_type": "code",
        "colab": {
          "base_uri": "https://localhost:8080/",
          "height": 121
        },
        "outputId": "79a53e39-a652-4de6-b8e9-33ef135fa70c"
      },
      "source": [
        "forecast_out = 10\n",
        "data1['Prediction'] = data1[['Adj Close']].shift(-forecast_out)\n",
        "print(data1.tail())"
      ],
      "execution_count": 64,
      "outputs": [
        {
          "output_type": "stream",
          "text": [
            "         Adj Close  Prediction\n",
            "1218  23293.910156         NaN\n",
            "1219  23529.500000         NaN\n",
            "1220  23379.810547         NaN\n",
            "1221  23135.230469         NaN\n",
            "1222  23300.089844         NaN\n"
          ],
          "name": "stdout"
        }
      ]
    },
    {
      "cell_type": "code",
      "metadata": {
        "id": "WeGZCkQVEGB6",
        "colab_type": "code",
        "colab": {
          "base_uri": "https://localhost:8080/",
          "height": 138
        },
        "outputId": "2d6e0bb4-372a-40d0-c6b0-e1c3f479fe9d"
      },
      "source": [
        "X = np.array(data1.drop(['Prediction'],1))\n",
        "X = X[:-forecast_out]\n",
        "print(X)"
      ],
      "execution_count": 65,
      "outputs": [
        {
          "output_type": "stream",
          "text": [
            "[[17935.640625]\n",
            " [17813.380859]\n",
            " [17412.580078]\n",
            " ...\n",
            " [23292.650391]\n",
            " [23148.570313]\n",
            " [23038.580078]]\n"
          ],
          "name": "stdout"
        }
      ]
    },
    {
      "cell_type": "code",
      "metadata": {
        "id": "HuZmEktTxu-Y",
        "colab_type": "code",
        "colab": {
          "base_uri": "https://localhost:8080/",
          "height": 52
        },
        "outputId": "a793588c-12e0-4b7e-fb20-98cb5e56129a"
      },
      "source": [
        "y = np.array(data1['Prediction'])\n",
        "y = y[:-forecast_out]\n",
        "print(y)"
      ],
      "execution_count": 66,
      "outputs": [
        {
          "output_type": "stream",
          "text": [
            "[17635.140625 17854.230469 17808.75     ... 23379.810547 23135.230469\n",
            " 23300.089844]\n"
          ],
          "name": "stdout"
        }
      ]
    },
    {
      "cell_type": "code",
      "metadata": {
        "id": "8qIQSohszrct",
        "colab_type": "code",
        "colab": {
          "base_uri": "https://localhost:8080/",
          "height": 366
        },
        "outputId": "ffeb7f81-462a-4e13-d769-9b96dd616269"
      },
      "source": [
        "!pip install quandl"
      ],
      "execution_count": 32,
      "outputs": [
        {
          "output_type": "stream",
          "text": [
            "Requirement already satisfied: quandl in /usr/local/lib/python3.6/dist-packages (3.4.8)\n",
            "Requirement already satisfied: inflection>=0.3.1 in /usr/local/lib/python3.6/dist-packages (from quandl) (0.3.1)\n",
            "Requirement already satisfied: pandas>=0.14 in /usr/local/lib/python3.6/dist-packages (from quandl) (0.25.3)\n",
            "Requirement already satisfied: pyOpenSSL in /usr/local/lib/python3.6/dist-packages (from quandl) (19.1.0)\n",
            "Requirement already satisfied: pyasn1 in /usr/local/lib/python3.6/dist-packages (from quandl) (0.4.8)\n",
            "Requirement already satisfied: requests>=2.7.0 in /usr/local/lib/python3.6/dist-packages (from quandl) (2.21.0)\n",
            "Requirement already satisfied: six in /usr/local/lib/python3.6/dist-packages (from quandl) (1.12.0)\n",
            "Requirement already satisfied: python-dateutil in /usr/local/lib/python3.6/dist-packages (from quandl) (2.6.1)\n",
            "Requirement already satisfied: more-itertools<=5.0.0 in /usr/local/lib/python3.6/dist-packages (from quandl) (5.0.0)\n",
            "Requirement already satisfied: ndg-httpsclient in /usr/local/lib/python3.6/dist-packages (from quandl) (0.5.1)\n",
            "Requirement already satisfied: numpy>=1.8 in /usr/local/lib/python3.6/dist-packages (from quandl) (1.17.4)\n",
            "Requirement already satisfied: pytz>=2017.2 in /usr/local/lib/python3.6/dist-packages (from pandas>=0.14->quandl) (2018.9)\n",
            "Requirement already satisfied: cryptography>=2.8 in /usr/local/lib/python3.6/dist-packages (from pyOpenSSL->quandl) (2.8)\n",
            "Requirement already satisfied: urllib3<1.25,>=1.21.1 in /usr/local/lib/python3.6/dist-packages (from requests>=2.7.0->quandl) (1.24.3)\n",
            "Requirement already satisfied: chardet<3.1.0,>=3.0.2 in /usr/local/lib/python3.6/dist-packages (from requests>=2.7.0->quandl) (3.0.4)\n",
            "Requirement already satisfied: certifi>=2017.4.17 in /usr/local/lib/python3.6/dist-packages (from requests>=2.7.0->quandl) (2019.11.28)\n",
            "Requirement already satisfied: idna<2.9,>=2.5 in /usr/local/lib/python3.6/dist-packages (from requests>=2.7.0->quandl) (2.8)\n",
            "Requirement already satisfied: cffi!=1.11.3,>=1.8 in /usr/local/lib/python3.6/dist-packages (from cryptography>=2.8->pyOpenSSL->quandl) (1.13.2)\n",
            "Requirement already satisfied: pycparser in /usr/local/lib/python3.6/dist-packages (from cffi!=1.11.3,>=1.8->cryptography>=2.8->pyOpenSSL->quandl) (2.19)\n"
          ],
          "name": "stdout"
        }
      ]
    },
    {
      "cell_type": "code",
      "metadata": {
        "id": "K4xz7-Hk4gBG",
        "colab_type": "code",
        "colab": {}
      },
      "source": [
        "import quandl\n",
        "from sklearn.linear_model import LinearRegression\n",
        "from sklearn.svm import SVR\n",
        "from sklearn.model_selection import train_test_split\n",
        "\n",
        "#data dibagi menjadi 80% training dan 20% testing\n",
        "x_train, x_test, y_train, y_test = train_test_split(X, y, test_size=0.2)\n"
      ],
      "execution_count": 0,
      "outputs": []
    },
    {
      "cell_type": "code",
      "metadata": {
        "id": "p-puKAYA9m8x",
        "colab_type": "code",
        "colab": {
          "base_uri": "https://localhost:8080/",
          "height": 52
        },
        "outputId": "69b31c48-b9d8-4a88-bc0b-e5cb2150f2d2"
      },
      "source": [
        "#Support Vector Machine (Regressor) \n",
        "svr_rbf = SVR(kernel='rbf', C=1e3, gamma=0.1) \n",
        "svr_rbf.fit(x_train, y_train)"
      ],
      "execution_count": 69,
      "outputs": [
        {
          "output_type": "execute_result",
          "data": {
            "text/plain": [
              "SVR(C=1000.0, cache_size=200, coef0=0.0, degree=3, epsilon=0.1, gamma=0.1,\n",
              "    kernel='rbf', max_iter=-1, shrinking=True, tol=0.001, verbose=False)"
            ]
          },
          "metadata": {
            "tags": []
          },
          "execution_count": 69
        }
      ]
    },
    {
      "cell_type": "code",
      "metadata": {
        "id": "vem3HPXVCB4w",
        "colab_type": "code",
        "colab": {
          "base_uri": "https://localhost:8080/",
          "height": 34
        },
        "outputId": "d16bca3d-ae51-4403-924b-1f6394591a21"
      },
      "source": [
        "#Testing Model: Score returns the coefficient of determination R^2 of the prediction. \n",
        "#The best possible score is 1.0\n",
        "svm_confidence = svr_rbf.score(x_test, y_test)\n",
        "print(\"svm confidence: \", svm_confidence)"
      ],
      "execution_count": 70,
      "outputs": [
        {
          "output_type": "stream",
          "text": [
            "svm confidence:  0.33788779678509095\n"
          ],
          "name": "stdout"
        }
      ]
    },
    {
      "cell_type": "code",
      "metadata": {
        "id": "MNmKL88rCcJ2",
        "colab_type": "code",
        "colab": {
          "base_uri": "https://localhost:8080/",
          "height": 34
        },
        "outputId": "8413bd22-e774-42fe-a0f8-a9942fd31cf4"
      },
      "source": [
        "#Create and train the Linear Regression  Model\n",
        "lr = LinearRegression()\n",
        "#Train the model\n",
        "lr.fit(x_train, y_train)"
      ],
      "execution_count": 71,
      "outputs": [
        {
          "output_type": "execute_result",
          "data": {
            "text/plain": [
              "LinearRegression(copy_X=True, fit_intercept=True, n_jobs=None, normalize=False)"
            ]
          },
          "metadata": {
            "tags": []
          },
          "execution_count": 71
        }
      ]
    },
    {
      "cell_type": "code",
      "metadata": {
        "id": "-wFVTU1SCfWb",
        "colab_type": "code",
        "colab": {
          "base_uri": "https://localhost:8080/",
          "height": 34
        },
        "outputId": "5b83c9ad-919b-47b6-880e-1396fb16662b"
      },
      "source": [
        "#Testing Model: Score returns the coefficient of determination R^2 of the prediction. \n",
        "#The best possible score is 1.0\n",
        "lr_confidence = lr.score(x_test, y_test)\n",
        "print(\"lr confidence: \", lr_confidence)\n"
      ],
      "execution_count": 72,
      "outputs": [
        {
          "output_type": "stream",
          "text": [
            "lr confidence:  0.9141675080820484\n"
          ],
          "name": "stdout"
        }
      ]
    },
    {
      "cell_type": "code",
      "metadata": {
        "id": "6qjS82baCjxy",
        "colab_type": "code",
        "colab": {
          "base_uri": "https://localhost:8080/",
          "height": 190
        },
        "outputId": "cbf037f7-31a8-4e9b-d771-141d0c0e9cb1"
      },
      "source": [
        "#Set x_forecast equal to the last 10 rows of the original data set from Adj Close column\n",
        "x_forecast = np.array(data1.drop(['Prediction'],1))[-forecast_out:]\n",
        "print(x_forecast)"
      ],
      "execution_count": 73,
      "outputs": [
        {
          "output_type": "stream",
          "text": [
            "[[23112.880859]\n",
            " [23292.810547]\n",
            " [23373.320313]\n",
            " [23437.769531]\n",
            " [23409.140625]\n",
            " [23293.910156]\n",
            " [23529.5     ]\n",
            " [23379.810547]\n",
            " [23135.230469]\n",
            " [23300.089844]]\n"
          ],
          "name": "stdout"
        }
      ]
    },
    {
      "cell_type": "code",
      "metadata": {
        "id": "j8I1M9a3CuCv",
        "colab_type": "code",
        "colab": {
          "base_uri": "https://localhost:8080/",
          "height": 121
        },
        "outputId": "872bd80e-f07d-4d1a-cbde-788a21cfc4fa"
      },
      "source": [
        "#Print linear regression model predictions for the next '10' days\n",
        "lr_prediction = lr.predict(x_forecast)\n",
        "print(lr_prediction)\n",
        "# Print support vector regressor model predictions for the next '10' days\n",
        "svm_prediction = svr_rbf.predict(x_forecast)\n",
        "print(svm_prediction)"
      ],
      "execution_count": 74,
      "outputs": [
        {
          "output_type": "stream",
          "text": [
            "[23011.91512913 23183.33150012 23260.03197168 23321.43179505\n",
            " 23294.1574568  23184.37908146 23408.82206555 23266.21512228\n",
            " 23033.20727431 23190.26637946]\n",
            "[20068.16173743 21187.74330314 20068.16173687 20068.16173687\n",
            " 20071.17607462 21011.52365624 20068.28435273 20068.16173687\n",
            " 20086.57593337 20424.47644004]\n"
          ],
          "name": "stdout"
        }
      ]
    },
    {
      "cell_type": "markdown",
      "metadata": {
        "id": "WdB-wQ8SxFhN",
        "colab_type": "text"
      },
      "source": [
        "**DATA 2** "
      ]
    },
    {
      "cell_type": "code",
      "metadata": {
        "id": "C4r-oi5dloTT",
        "colab_type": "code",
        "colab": {
          "base_uri": "https://localhost:8080/",
          "height": 121
        },
        "outputId": "68e96e93-b55a-4ddf-8b03-f22787442023"
      },
      "source": [
        "data2 = data2[['Adj Close']]\n",
        "print(data2.head())"
      ],
      "execution_count": 75,
      "outputs": [
        {
          "output_type": "stream",
          "text": [
            "      Adj Close\n",
            "0  28040.568359\n",
            "1  27928.044922\n",
            "2  27995.562500\n",
            "3  27815.523438\n",
            "4  27883.041016\n"
          ],
          "name": "stdout"
        }
      ]
    },
    {
      "cell_type": "code",
      "metadata": {
        "id": "j6kgfOVisRF8",
        "colab_type": "code",
        "colab": {
          "base_uri": "https://localhost:8080/",
          "height": 121
        },
        "outputId": "a3ed15d3-39b4-4c61-96d6-2e6ee39ab3e2"
      },
      "source": [
        "forecast_out = 10\n",
        "data2['Prediction'] = data2[['Adj Close']].shift(-forecast_out)\n",
        "print(data2.tail())"
      ],
      "execution_count": 76,
      "outputs": [
        {
          "output_type": "stream",
          "text": [
            "         Adj Close  Prediction\n",
            "1252  41380.539063         NaN\n",
            "1253  42420.000000         NaN\n",
            "1254  42675.000000         NaN\n",
            "1255  42000.000000         NaN\n",
            "1256  42150.000000         NaN\n"
          ],
          "name": "stdout"
        }
      ]
    },
    {
      "cell_type": "code",
      "metadata": {
        "id": "khHd0k3RtIMA",
        "colab_type": "code",
        "colab": {
          "base_uri": "https://localhost:8080/",
          "height": 138
        },
        "outputId": "e239313b-8bab-46b8-d4cc-74d375001aea"
      },
      "source": [
        "X2 = np.array(data2.drop(['Prediction'],1))\n",
        "X2 = X2[:-forecast_out]\n",
        "print(X2)"
      ],
      "execution_count": 77,
      "outputs": [
        {
          "output_type": "stream",
          "text": [
            "[[28040.568359]\n",
            " [27928.044922]\n",
            " [27995.5625  ]\n",
            " ...\n",
            " [42370.503906]\n",
            " [42123.011719]\n",
            " [41603.28125 ]]\n"
          ],
          "name": "stdout"
        }
      ]
    },
    {
      "cell_type": "code",
      "metadata": {
        "id": "X_aCOukXtNq3",
        "colab_type": "code",
        "colab": {
          "base_uri": "https://localhost:8080/",
          "height": 52
        },
        "outputId": "aebce59a-b70c-4660-e286-d7324457aa42"
      },
      "source": [
        "y2 = np.array(data2['Prediction'])\n",
        "y2 = y2[:-forecast_out]\n",
        "print(y2)"
      ],
      "execution_count": 78,
      "outputs": [
        {
          "output_type": "stream",
          "text": [
            "[28355.630859 28355.630859 28378.138672 ... 42675.       42000.\n",
            " 42150.      ]\n"
          ],
          "name": "stdout"
        }
      ]
    },
    {
      "cell_type": "code",
      "metadata": {
        "id": "986CvBwptQ5R",
        "colab_type": "code",
        "colab": {}
      },
      "source": [
        "#data dibagi menjadi 80% training dan 20% testing\n",
        "x2_train, x2_test, y2_train, y2_test = train_test_split(X2, y2, test_size=0.2)"
      ],
      "execution_count": 0,
      "outputs": []
    },
    {
      "cell_type": "code",
      "metadata": {
        "id": "iDLvj6b7tVji",
        "colab_type": "code",
        "colab": {
          "base_uri": "https://localhost:8080/",
          "height": 52
        },
        "outputId": "1f3bfc00-3309-449d-b150-3eeb0b385c1b"
      },
      "source": [
        "#Support Vector Machine (Regressor) \n",
        "svr_rbf = SVR(kernel='rbf', C=1e3, gamma=0.1) \n",
        "svr_rbf.fit(x2_train, y2_train)"
      ],
      "execution_count": 80,
      "outputs": [
        {
          "output_type": "execute_result",
          "data": {
            "text/plain": [
              "SVR(C=1000.0, cache_size=200, coef0=0.0, degree=3, epsilon=0.1, gamma=0.1,\n",
              "    kernel='rbf', max_iter=-1, shrinking=True, tol=0.001, verbose=False)"
            ]
          },
          "metadata": {
            "tags": []
          },
          "execution_count": 80
        }
      ]
    },
    {
      "cell_type": "code",
      "metadata": {
        "id": "Pcij0ov7uiYO",
        "colab_type": "code",
        "colab": {
          "base_uri": "https://localhost:8080/",
          "height": 34
        },
        "outputId": "63c86c5e-a81b-45bd-e449-885a75f4f034"
      },
      "source": [
        "#Testing Model: Score returns the coefficient of determination R^2 of the prediction. \n",
        "svm_confidence = svr_rbf.score(x2_test, y2_test)\n",
        "print(\"svm confidence: \", svm_confidence)"
      ],
      "execution_count": 81,
      "outputs": [
        {
          "output_type": "stream",
          "text": [
            "svm confidence:  0.16470636702848407\n"
          ],
          "name": "stdout"
        }
      ]
    },
    {
      "cell_type": "code",
      "metadata": {
        "id": "8EnC-wv-vH4U",
        "colab_type": "code",
        "colab": {
          "base_uri": "https://localhost:8080/",
          "height": 34
        },
        "outputId": "8c5c252d-df55-4aa7-9f9e-397f0c3bba94"
      },
      "source": [
        "#Create and train the Linear Regression  Model\n",
        "lr = LinearRegression()\n",
        "#Train the model\n",
        "lr.fit(x2_train, y2_train)"
      ],
      "execution_count": 83,
      "outputs": [
        {
          "output_type": "execute_result",
          "data": {
            "text/plain": [
              "LinearRegression(copy_X=True, fit_intercept=True, n_jobs=None, normalize=False)"
            ]
          },
          "metadata": {
            "tags": []
          },
          "execution_count": 83
        }
      ]
    },
    {
      "cell_type": "code",
      "metadata": {
        "id": "RQcXeKC-wU2I",
        "colab_type": "code",
        "colab": {
          "base_uri": "https://localhost:8080/",
          "height": 34
        },
        "outputId": "d0ecd4bf-e7d2-40fb-83c0-a1f8399ec086"
      },
      "source": [
        "#Testing Model: Score returns the coefficient of determination R^2 of the prediction. \n",
        "#The best possible score is 1.0\n",
        "lr_confidence = lr.score(x2_test, y2_test)\n",
        "print(\"lr confidence: \", lr_confidence)"
      ],
      "execution_count": 84,
      "outputs": [
        {
          "output_type": "stream",
          "text": [
            "lr confidence:  0.8996225386833822\n"
          ],
          "name": "stdout"
        }
      ]
    },
    {
      "cell_type": "code",
      "metadata": {
        "id": "6iza-AWcwYZA",
        "colab_type": "code",
        "colab": {
          "base_uri": "https://localhost:8080/",
          "height": 190
        },
        "outputId": "fe94349e-4c47-4583-d61a-614aaafae2cc"
      },
      "source": [
        "#Set x_forecast equal to the last 10 rows of the original data set from Adj Close column\n",
        "x2_forecast = np.array(data2.drop(['Prediction'],1))[-forecast_out:]\n",
        "print(x_forecast)"
      ],
      "execution_count": 85,
      "outputs": [
        {
          "output_type": "stream",
          "text": [
            "[[23112.880859]\n",
            " [23292.810547]\n",
            " [23373.320313]\n",
            " [23437.769531]\n",
            " [23409.140625]\n",
            " [23293.910156]\n",
            " [23529.5     ]\n",
            " [23379.810547]\n",
            " [23135.230469]\n",
            " [23300.089844]]\n"
          ],
          "name": "stdout"
        }
      ]
    },
    {
      "cell_type": "code",
      "metadata": {
        "id": "Q8T2S3oWwaYV",
        "colab_type": "code",
        "colab": {
          "base_uri": "https://localhost:8080/",
          "height": 121
        },
        "outputId": "11f0d49a-bb88-4cc7-8302-fd0b1715dc67"
      },
      "source": [
        "#Print linear regression model predictions for the next '10' days\n",
        "lr_prediction = lr.predict(x2_forecast)\n",
        "print(lr_prediction)\n",
        "# Print support vector regressor model predictions for the next '10' days\n",
        "svm_prediction = svr_rbf.predict(x2_forecast)\n",
        "print(svm_prediction)"
      ],
      "execution_count": 86,
      "outputs": [
        {
          "output_type": "stream",
          "text": [
            "[41832.01251393 41762.60230102 41230.47559334 40767.75909856\n",
            " 41508.10914217 41508.10914217 42479.81560606 42718.19411502\n",
            " 42087.19217952 42227.41483186]\n",
            "[42419.90026195 42222.80276541 42064.23135778 42222.80271617\n",
            " 42222.80262979 42222.80262979 42222.80274115 42222.77446126\n",
            " 42350.67252107 42222.80271617]\n"
          ],
          "name": "stdout"
        }
      ]
    },
    {
      "cell_type": "markdown",
      "metadata": {
        "id": "X7Uuv2VaxT1Z",
        "colab_type": "text"
      },
      "source": [
        "**DATA 3**"
      ]
    },
    {
      "cell_type": "code",
      "metadata": {
        "id": "5dFbHfH-xYav",
        "colab_type": "code",
        "colab": {
          "base_uri": "https://localhost:8080/",
          "height": 121
        },
        "outputId": "2ba89c5e-1ec8-44e9-96e2-90f7054168d9"
      },
      "source": [
        "data3 = data3[['Adj Close']]\n",
        "print(data3.head())"
      ],
      "execution_count": 107,
      "outputs": [
        {
          "output_type": "stream",
          "text": [
            "   Adj Close\n",
            "0   6.046041\n",
            "1   6.251688\n",
            "2   6.251688\n",
            "3   6.243463\n",
            "4   6.333947\n"
          ],
          "name": "stdout"
        }
      ]
    },
    {
      "cell_type": "code",
      "metadata": {
        "id": "8PV0NqZM5uF0",
        "colab_type": "code",
        "colab": {
          "base_uri": "https://localhost:8080/",
          "height": 121
        },
        "outputId": "f6b035f9-6039-4e10-e929-5531927c8ec1"
      },
      "source": [
        "forecast_out = 10\n",
        "data3['Prediction'] = data3[['Adj Close']].shift(-forecast_out)\n",
        "print(data3.tail())"
      ],
      "execution_count": 113,
      "outputs": [
        {
          "output_type": "stream",
          "text": [
            "      Adj Close  Prediction\n",
            "1244       8.85         NaN\n",
            "1245       8.93         NaN\n",
            "1246       8.88         NaN\n",
            "1247       8.89         NaN\n",
            "1248       8.92         NaN\n"
          ],
          "name": "stdout"
        }
      ]
    },
    {
      "cell_type": "code",
      "metadata": {
        "id": "XGJTODrB5yHV",
        "colab_type": "code",
        "colab": {
          "base_uri": "https://localhost:8080/",
          "height": 138
        },
        "outputId": "c1be16ad-f09a-4b9f-9d13-e187b3edabbc"
      },
      "source": [
        "X3 = np.array(data3.drop(['Prediction'],1))\n",
        "X3 = X3[:-forecast_out]\n",
        "print(X3)"
      ],
      "execution_count": 114,
      "outputs": [
        {
          "output_type": "stream",
          "text": [
            "[[6.046041]\n",
            " [6.251688]\n",
            " [6.251688]\n",
            " ...\n",
            " [8.86    ]\n",
            " [8.9     ]\n",
            " [8.83    ]]\n"
          ],
          "name": "stdout"
        }
      ]
    },
    {
      "cell_type": "code",
      "metadata": {
        "id": "mmp4X906503i",
        "colab_type": "code",
        "colab": {
          "base_uri": "https://localhost:8080/",
          "height": 34
        },
        "outputId": "a8db25bf-c769-4782-eeab-4ea6a958ce1d"
      },
      "source": [
        "y3 = np.array(data3['Prediction'])\n",
        "y3 = y3[:-forecast_out]\n",
        "print(y3)"
      ],
      "execution_count": 115,
      "outputs": [
        {
          "output_type": "stream",
          "text": [
            "[6.432658 6.407981 6.432658 ... 8.88     8.89     8.92    ]\n"
          ],
          "name": "stdout"
        }
      ]
    },
    {
      "cell_type": "code",
      "metadata": {
        "id": "IFJB0-pD52yV",
        "colab_type": "code",
        "colab": {}
      },
      "source": [
        "#data dibagi menjadi 80% training dan 20% testing\n",
        "x3_train, x3_test, y3_train, y3_test = train_test_split(X3, y3, test_size=0.2)"
      ],
      "execution_count": 0,
      "outputs": []
    },
    {
      "cell_type": "code",
      "metadata": {
        "id": "WDUbDrxg55EO",
        "colab_type": "code",
        "colab": {
          "base_uri": "https://localhost:8080/",
          "height": 52
        },
        "outputId": "84f0f3f6-c840-4fed-c3bc-17679d0be97a"
      },
      "source": [
        "#Support Vector Machine (Regressor) \n",
        "svr_rbf = SVR(kernel='rbf', C=1e3, gamma=0.1) \n",
        "svr_rbf.fit(x3_train, y3_train)"
      ],
      "execution_count": 117,
      "outputs": [
        {
          "output_type": "execute_result",
          "data": {
            "text/plain": [
              "SVR(C=1000.0, cache_size=200, coef0=0.0, degree=3, epsilon=0.1, gamma=0.1,\n",
              "    kernel='rbf', max_iter=-1, shrinking=True, tol=0.001, verbose=False)"
            ]
          },
          "metadata": {
            "tags": []
          },
          "execution_count": 117
        }
      ]
    },
    {
      "cell_type": "code",
      "metadata": {
        "id": "1iIepTrU569m",
        "colab_type": "code",
        "colab": {
          "base_uri": "https://localhost:8080/",
          "height": 34
        },
        "outputId": "de7fc854-5918-421c-fb07-9cf397ad4fef"
      },
      "source": [
        "#Testing Model: Score returns the coefficient of determination R^2 of the prediction. \n",
        "svm_confidence = svr_rbf.score(x3_test, y3_test)\n",
        "print(\"svm confidence: \", svm_confidence)"
      ],
      "execution_count": 118,
      "outputs": [
        {
          "output_type": "stream",
          "text": [
            "svm confidence:  0.8165695014641936\n"
          ],
          "name": "stdout"
        }
      ]
    },
    {
      "cell_type": "code",
      "metadata": {
        "id": "ImiQtv5f58m1",
        "colab_type": "code",
        "colab": {
          "base_uri": "https://localhost:8080/",
          "height": 34
        },
        "outputId": "f28870f3-4d32-42f6-fe21-43aad9e8ca87"
      },
      "source": [
        "#Create and train the Linear Regression  Model\n",
        "lr = LinearRegression()\n",
        "#Train the model\n",
        "lr.fit(x3_train, y3_train)"
      ],
      "execution_count": 119,
      "outputs": [
        {
          "output_type": "execute_result",
          "data": {
            "text/plain": [
              "LinearRegression(copy_X=True, fit_intercept=True, n_jobs=None, normalize=False)"
            ]
          },
          "metadata": {
            "tags": []
          },
          "execution_count": 119
        }
      ]
    },
    {
      "cell_type": "code",
      "metadata": {
        "id": "Nm3HZBZv5-yf",
        "colab_type": "code",
        "colab": {
          "base_uri": "https://localhost:8080/",
          "height": 34
        },
        "outputId": "87f3c178-7f0b-42e6-fe9d-fb5a8f1f131a"
      },
      "source": [
        "#Testing Model: Score returns the coefficient of determination R^2 of the prediction. \n",
        "#The best possible score is 1.0\n",
        "lr_confidence = lr.score(x3_test, y3_test)\n",
        "print(\"lr confidence: \", lr_confidence)\n"
      ],
      "execution_count": 120,
      "outputs": [
        {
          "output_type": "stream",
          "text": [
            "lr confidence:  0.8063708294656364\n"
          ],
          "name": "stdout"
        }
      ]
    },
    {
      "cell_type": "code",
      "metadata": {
        "id": "Bca2DJQc6C_J",
        "colab_type": "code",
        "colab": {
          "base_uri": "https://localhost:8080/",
          "height": 190
        },
        "outputId": "4ce015a2-eb06-4ead-9490-3d62f4960194"
      },
      "source": [
        "#Set x_forecast equal to the last 10 rows of the original data set from Adj Close column\n",
        "x3_forecast = np.array(data3.drop(['Prediction'],1))[-forecast_out:]\n",
        "print(x3_forecast)"
      ],
      "execution_count": 121,
      "outputs": [
        {
          "output_type": "stream",
          "text": [
            "[[8.97]\n",
            " [8.94]\n",
            " [8.64]\n",
            " [8.86]\n",
            " [8.85]\n",
            " [8.85]\n",
            " [8.93]\n",
            " [8.88]\n",
            " [8.89]\n",
            " [8.92]]\n"
          ],
          "name": "stdout"
        }
      ]
    },
    {
      "cell_type": "code",
      "metadata": {
        "id": "SyBpEAyk7bY_",
        "colab_type": "code",
        "colab": {
          "base_uri": "https://localhost:8080/",
          "height": 86
        },
        "outputId": "23b56cee-1485-4219-ecac-8cba41d3f0e6"
      },
      "source": [
        "#Print linear regression model predictions for the next '10' days\n",
        "lr_prediction3 = lr.predict(x3_forecast)\n",
        "print(lr_prediction3)\n",
        "# Print support vector regressor model predictions for the next '10' days\n",
        "svm_prediction3 = svr_rbf.predict(x3_forecast)\n",
        "print(svm_prediction3)"
      ],
      "execution_count": 122,
      "outputs": [
        {
          "output_type": "stream",
          "text": [
            "[8.90623755 8.87744963 8.58957042 8.80068184 8.79108587 8.79108587\n",
            " 8.86785366 8.81987379 8.82946976 8.85825769]\n",
            "[8.84280836 8.82672215 8.63058978 8.78058404 8.77449061 8.77449061\n",
            " 8.8212114  8.79255532 8.79843253 8.81562678]\n"
          ],
          "name": "stdout"
        }
      ]
    }
  ]
}